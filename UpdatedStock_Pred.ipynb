{
  "nbformat": 4,
  "nbformat_minor": 0,
  "metadata": {
    "colab": {
      "provenance": []
    },
    "kernelspec": {
      "name": "python3",
      "display_name": "Python 3"
    },
    "language_info": {
      "name": "python"
    }
  },
  "cells": [
    {
      "cell_type": "markdown",
      "source": [
        "**Upload previously downloaded CSV:** WHERE I WAS HAVING TROUBLE. SEEMS TO WORK NOW\n",
        "\n",
        "\n",
        "The dataframe is all messed up when imported from a CSV. The following code reindedxes it and gets rid of messed up columns."
      ],
      "metadata": {
        "id": "hvahXIGhzaIy"
      }
    },
    {
      "cell_type": "code",
      "execution_count": null,
      "metadata": {
        "id": "FwtnsyNYzU2V"
      },
      "outputs": [],
      "source": [
        "from google.colab import files\n",
        "uploaded = files.upload()\n",
        "\n",
        "sp500_df = pd.read_csv('sp500_dataframe.csv')\n",
        "sp500_df.head()"
      ]
    },
    {
      "cell_type": "code",
      "source": [
        "# Print before\n",
        "print(sp500_df.shape)"
      ],
      "metadata": {
        "id": "H_CxDkE4zdFt"
      },
      "execution_count": null,
      "outputs": []
    },
    {
      "cell_type": "code",
      "source": [
        "sp500_df.rename(columns={'Unnamed: 0': 'Date'}, inplace=True)"
      ],
      "metadata": {
        "id": "-orCnrmEzjGH"
      },
      "execution_count": null,
      "outputs": []
    },
    {
      "cell_type": "code",
      "source": [
        "print(sp500_df.head())"
      ],
      "metadata": {
        "id": "98KcaYixzkA2"
      },
      "execution_count": null,
      "outputs": []
    },
    {
      "cell_type": "code",
      "source": [
        "# Remove numeric index and repalce with the date\n",
        "\n",
        "sp500_df.set_index(\"Date\", inplace=True)\n",
        "sp500_df.index.name = None"
      ],
      "metadata": {
        "id": "YwuRQSphzjUt"
      },
      "execution_count": null,
      "outputs": []
    },
    {
      "cell_type": "code",
      "source": [
        "# Remove tickers row\n",
        "sp500_df = sp500_df.drop(sp500_df.index[0])\n",
        "# Remove the date row\n",
        "sp500_df = sp500_df.drop(sp500_df.index[1])\n",
        "# Remove the price row\n",
        "sp500_df = sp500_df.drop(sp500_df.index[2])"
      ],
      "metadata": {
        "id": "xc04nDNgzjk-"
      },
      "execution_count": null,
      "outputs": []
    },
    {
      "cell_type": "code",
      "source": [
        "sp500_df = sp500_df.drop(sp500_df.index[0])"
      ],
      "metadata": {
        "id": "Tf4gQi5ezj0W"
      },
      "execution_count": null,
      "outputs": []
    },
    {
      "cell_type": "code",
      "source": [
        "print(sp500_df.head())"
      ],
      "metadata": {
        "id": "GSC5aA7tzqLo"
      },
      "execution_count": null,
      "outputs": []
    },
    {
      "cell_type": "code",
      "source": [
        "# MUST DROP THE LAST COLUMN to make the number of columbs = to num tickers x num features\n",
        "sp500_df = sp500_df.drop(sp500_df.columns[-1], axis=1)"
      ],
      "metadata": {
        "id": "LHz6lkzlzqYh"
      },
      "execution_count": null,
      "outputs": []
    },
    {
      "cell_type": "code",
      "source": [
        "print(sp500_df.shape)\n",
        "print(sp500_df.head())"
      ],
      "metadata": {
        "id": "lrr69KeXzqnb"
      },
      "execution_count": null,
      "outputs": []
    },
    {
      "cell_type": "code",
      "source": [
        "def reshape_stock_data(all_stock_data, tickers):\n",
        "  print(\"Original shape: \", all_stock_data.shape)\n",
        "  transposed = all_stock_data.T\n",
        "  transposed_array = transposed.to_numpy()\n",
        "  y, z = transposed_array.shape\n",
        "  y = y//len(tickers)\n",
        "  print(\"New shape :\", z, y)\n",
        "  print(\"Number of tickers: \", len(tickers))\n",
        "  reshaped = transposed_array.reshape(len(tickers),z, y)\n",
        "  print(\"Reshaped shape: (Tickers, Time, Features)\", reshaped.shape)\n",
        "  print(\"Reshaped array: \\n\", reshaped)\n",
        "  return reshaped"
      ],
      "metadata": {
        "id": "sxZ0lGe4z-Ax"
      },
      "execution_count": null,
      "outputs": []
    },
    {
      "cell_type": "code",
      "source": [
        "reshaped = reshape_stock_data(sp500_df, sp500_tickers)"
      ],
      "metadata": {
        "id": "lCXlP_8_z_8C"
      },
      "execution_count": null,
      "outputs": []
    },
    {
      "cell_type": "code",
      "source": [
        "print(reshaped.shape)\n",
        "print(reshaped[0].shape)\n",
        "flattend = reshaped.reshape(-1, 9*514)\n"
      ],
      "metadata": {
        "id": "lB78pr2I0CL1"
      },
      "execution_count": null,
      "outputs": []
    },
    {
      "cell_type": "code",
      "source": [
        "# FEATURE SPECIFIC PRE PROCESSING:\n",
        "# FEATURES: 1: Close \t2: High \t3: Low \t4: Open \t5: Volume \t6: EPS \t7: PE_Ratio \t8: Market_Cap \t9: Beta\n",
        "# Experiment with minmax vs standarization for 1, 2, 3, and 4\n",
        "# Standardize: 1, 2, 3, 4, 9\n",
        "# Min max:\n",
        "# Log transform + Standardization: 5, 7, 8\n",
        "standarize = StandardScaler()\n",
        "scaled_array = standarize.fit_transform(flattend)\n",
        "preprocessed_array = scaled_array.reshape(-1, 514, 9)\n",
        "print(preprocessed_array.shape)"
      ],
      "metadata": {
        "id": "z0Ue3sF50Dsb"
      },
      "execution_count": null,
      "outputs": []
    },
    {
      "cell_type": "code",
      "source": [
        "print(preprocessed_array[0:502].shape)"
      ],
      "metadata": {
        "id": "mw0LfHYH0GcF"
      },
      "execution_count": null,
      "outputs": []
    },
    {
      "cell_type": "code",
      "source": [
        "import random"
      ],
      "metadata": {
        "id": "fW7h8dcr0IHY"
      },
      "execution_count": null,
      "outputs": []
    },
    {
      "cell_type": "code",
      "source": [
        "def create_subsets(data):\n",
        "  # data shape: (502, 514, 9)\n",
        "  dataset = []\n",
        "\n",
        "\n",
        "  for subset in range(10):\n",
        "    start = random(0, 359)  # Start between week 0 and 359. Approximately 7 out of ten years (359 = 70% of 514)\n",
        "    three_years = (52 * 3)  # Want to get three years worth of weeks:\n",
        "    end = start + three_years\n",
        "    subset = data[start:end]\n",
        "    dataset.append(subset)\n",
        "\n",
        "  return dataset\n",
        "\n",
        "\n",
        "\n",
        "\n",
        "\n",
        ""
      ],
      "metadata": {
        "id": "IwUsFzUN0Kmt"
      },
      "execution_count": null,
      "outputs": []
    },
    {
      "cell_type": "code",
      "source": [
        "class dataset(set_subsets):\n",
        "  def __init__(self, ):\n",
        "    pass\n",
        "\n",
        "  def __len__(self):\n",
        "    pass\n",
        "\n",
        "  def __getitem__(self, idx):\n",
        "    pass\n",
        "\n",
        ""
      ],
      "metadata": {
        "id": "gRem4T240Lmn"
      },
      "execution_count": null,
      "outputs": []
    },
    {
      "cell_type": "code",
      "source": [],
      "metadata": {
        "id": "W7D5RjUJ0NaX"
      },
      "execution_count": null,
      "outputs": []
    }
  ]
}